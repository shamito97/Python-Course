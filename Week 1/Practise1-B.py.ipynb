{
 "cells": [
  {
   "cell_type": "code",
   "execution_count": 11,
   "metadata": {},
   "outputs": [
    {
     "name": "stdout",
     "output_type": "stream",
     "text": [
      "ُEnter your number: -105\n",
      "105.0\n"
     ]
    }
   ],
   "source": [
    "#Enter your number:-105\n",
    "x = float(input(\"ُEnter your number: \"))\n",
    "\n",
    "if x < -100: \n",
    "    print(-x)\n",
    "elif -100<= x <= -25:\n",
    "    print(x**4)\n",
    "#elif -25<=x<0:\n",
    "#print( (3.14/2)x + 3**x):\n",
    "elif x>100:\n",
    "    print(x)\n",
    "else:\n",
    "    print(x)"
   ]
  },
  {
   "cell_type": "code",
   "execution_count": 12,
   "metadata": {},
   "outputs": [
    {
     "name": "stdout",
     "output_type": "stream",
     "text": [
      "ُEnter your number: -50\n",
      "6250000.0\n"
     ]
    }
   ],
   "source": [
    "#Enter your number:-50\n",
    "x = float(input(\"ُEnter your number: \"))\n",
    "\n",
    "if x < -100: \n",
    "    print(-x)\n",
    "elif -100<= x <= -25:\n",
    "    print(x**4)\n",
    "#elif -25<=x<0:\n",
    "#print( (3.14/2)x + 3**x):\n",
    "elif x>100:\n",
    "    print(x)\n",
    "else:\n",
    "    print(x)"
   ]
  },
  {
   "cell_type": "code",
   "execution_count": 14,
   "metadata": {},
   "outputs": [
    {
     "name": "stdout",
     "output_type": "stream",
     "text": [
      "ُEnter your number: -9\n",
      "-9.0\n"
     ]
    }
   ],
   "source": [
    "#Enter your number:-9\n",
    "x = float(input(\"ُEnter your number: \"))\n",
    "\n",
    "if x < -100: \n",
    "    print(-x)\n",
    "elif -100<= x <= -25:\n",
    "    print(x**4)\n",
    "#elif -25<=x<0:\n",
    "#print( (3.14/2)x + 3**x):\n",
    "elif x>100:\n",
    "    print(x)\n",
    "else:\n",
    "    print(x)"
   ]
  },
  {
   "cell_type": "code",
   "execution_count": 16,
   "metadata": {},
   "outputs": [
    {
     "name": "stdout",
     "output_type": "stream",
     "text": [
      "ُEnter your number: -100\n",
      "100000000.0\n"
     ]
    }
   ],
   "source": [
    "#Enter your number:-100\n",
    "x = float(input(\"ُEnter your number: \"))\n",
    "\n",
    "if x < -100: \n",
    "    print(-x)\n",
    "elif -100<= x <= -25:\n",
    "    print(x**4)\n",
    "#elif -25<=x<0:\n",
    "#print( (3.14/2)x + 3**x):\n",
    "elif x>100:\n",
    "    print(x)\n",
    "else:\n",
    "    print(x)"
   ]
  },
  {
   "cell_type": "code",
   "execution_count": 17,
   "metadata": {},
   "outputs": [
    {
     "name": "stdout",
     "output_type": "stream",
     "text": [
      "ُEnter your number: 105\n",
      "105.0\n"
     ]
    }
   ],
   "source": [
    "#Enter your number:105\n",
    "x = float(input(\"ُEnter your number: \"))\n",
    "\n",
    "if x < 100: \n",
    "    print(-x)\n",
    "elif -100<= x <= -25:\n",
    "    print(x**4)\n",
    "#elif -25<=x<0:\n",
    "#print( (3.14/2)x + 3**x):\n",
    "elif x>100:\n",
    "    print(x)\n",
    "else:\n",
    "    print(x)"
   ]
  },
  {
   "cell_type": "code",
   "execution_count": null,
   "metadata": {
    "collapsed": true
   },
   "outputs": [],
   "source": [
    "#if x = int()"
   ]
  }
 ],
 "metadata": {
  "kernelspec": {
   "display_name": "Python 3",
   "language": "python",
   "name": "python3"
  },
  "language_info": {
   "codemirror_mode": {
    "name": "ipython",
    "version": 3
   },
   "file_extension": ".py",
   "mimetype": "text/x-python",
   "name": "python",
   "nbconvert_exporter": "python",
   "pygments_lexer": "ipython3",
   "version": "3.6.3"
  }
 },
 "nbformat": 4,
 "nbformat_minor": 2
}
